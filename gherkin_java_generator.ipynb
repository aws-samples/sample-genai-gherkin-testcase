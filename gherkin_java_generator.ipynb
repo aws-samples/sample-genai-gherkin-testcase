{
 "cells": [
  {
   "metadata": {},
   "cell_type": "code",
   "outputs": [],
   "execution_count": null,
   "source": [
    "# Import and Initialize bedrock client\n",
    "import os\n",
    "import boto3\n",
    "from botocore.exceptions import ClientError\n",
    "from common.common import stream_conversation, parser, save_files\n",
    "from common.gherkin_common import get_gherkin_prompt_message\n",
    "from common.gherkin_common import input_api_spec_file_dropdown, \\\n",
    "    input_api_spec_path_dropdown, input_api_spec_method_dropdown, \\\n",
    "    input_api_spec_response_code_dropdown, refresh_input\n",
    "from IPython.display import display\n",
    "from common.gherkin_stub_common import input_feature_dropdown, \\\n",
    "    get_java_stub_prompt_message, refresh_features\n",
    "\n",
    "model_id = os.getenv(\"model_id\")\n",
    "# inference parameters to use.\n",
    "temperature = 0\n",
    "top_k = 250\n",
    "top_p = 1\n",
    "# Base inference parameters.\n",
    "inference_config = {\n",
    "    \"temperature\": temperature,\n",
    "    \"topP\": top_p\n",
    "}\n",
    "# Additional model inference parameters.\n",
    "additional_model_fields = {\"top_k\": top_k}\n",
    "\n",
    "bedrock_client = boto3.client(service_name='bedrock-runtime')\n",
    "print(model_id)"
   ],
   "id": "c549d852f1e1849e"
  },
  {
   "cell_type": "code",
   "source": [
    "# Show interactive display to select the path, method and response code\n",
    "refresh_input()\n",
    "display(input_api_spec_file_dropdown)\n",
    "display(input_api_spec_path_dropdown)\n",
    "display(input_api_spec_method_dropdown)\n",
    "display(input_api_spec_response_code_dropdown)"
   ],
   "metadata": {
    "collapsed": false
   },
   "id": "c89ceea3502be5ff",
   "outputs": [],
   "execution_count": null
  },
  {
   "cell_type": "code",
   "id": "e2dc5e6aacfb149b",
   "metadata": {
    "collapsed": false,
    "tags": []
   },
   "source": [
    "# Generate the feature file.\n",
    "system_prompts = []\n",
    "feature_file_name, path, operation, response_code, messages = \\\n",
    "    get_gherkin_prompt_message()\n",
    "\n",
    "try:\n",
    "    bedrock_client = boto3.client(service_name='bedrock-runtime')\n",
    "    result = stream_conversation(bedrock_client, model_id, messages,\n",
    "                                 system_prompts, inference_config,\n",
    "                                 additional_model_fields)\n",
    "    result = parser(result, \"gherkin_scenarios\")\n",
    "    feature_file_name = (\n",
    "        f\"{feature_file_name}_{path[1:].replace('/', '_')}_\"\n",
    "        f\"{operation}_{response_code}.feature\"\n",
    "    )\n",
    "    print(feature_file_name)\n",
    "    save_files(content=result, root=\"output/features\",\n",
    "               file_name=feature_file_name)\n",
    "except ClientError as err:\n",
    "    message = err.response['Error']['Message']\n",
    "    print(\"A client error occurred: \" + format(message))\n",
    "else:\n",
    "    print(f\"Finished streaming messages with model {model_id}.\")"
   ],
   "outputs": [],
   "execution_count": null
  },
  {
   "cell_type": "code",
   "source": [
    "# Show interactive display to select the feature files.\n",
    "refresh_features()\n",
    "display(input_feature_dropdown)"
   ],
   "metadata": {
    "collapsed": false
   },
   "id": "48d11c645c14993",
   "outputs": [],
   "execution_count": null
  },
  {
   "cell_type": "code",
   "source": [
    "# Generate the java step definitions file.\n",
    "\n",
    "feature_file_name, messages = get_java_stub_prompt_message()\n",
    "\n",
    "try:\n",
    "    result = stream_conversation(bedrock_client, model_id, messages,\n",
    "                                 system_prompts, inference_config,\n",
    "                                 additional_model_fields)\n",
    "    result = parser(result, \"java_code\")\n",
    "    feature_file_name = f\"{feature_file_name}.java\"\n",
    "    save_files(result, \"output/stubs\", feature_file_name)\n",
    "except ClientError as err:\n",
    "    message = err.response['Error']['Message']\n",
    "    print(\"A client error occurred: \" + format(message))\n",
    "else:\n",
    "    print(f\"Finished streaming messages with model {model_id}.\")"
   ],
   "metadata": {
    "collapsed": false
   },
   "id": "33ca4cd78f8cfd61",
   "outputs": [],
   "execution_count": null
  }
 ],
 "metadata": {
  "kernelspec": {
   "name": "python3",
   "language": "python",
   "display_name": "Python 3 (ipykernel)"
  },
  "language_info": {
   "codemirror_mode": {
    "name": "ipython",
    "version": 3
   },
   "file_extension": ".py",
   "mimetype": "text/x-python",
   "name": "python",
   "nbconvert_exporter": "python",
   "pygments_lexer": "ipython3",
   "version": "3.10.15"
  }
 },
 "nbformat": 4,
 "nbformat_minor": 5
}
